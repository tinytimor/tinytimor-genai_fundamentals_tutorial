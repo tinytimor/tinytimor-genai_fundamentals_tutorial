{
 "cells": [
  {
   "cell_type": "markdown",
   "id": "d3d9d031-a7c1-43ca-95a1-0528c09d4e11",
   "metadata": {},
   "source": [
    "\n",
    "\n",
    "References:\n",
    "- [Geeks for Geeks - SQLite DataTypes](https://www.geeksforgeeks.org/how-to-check-column-type-in-sqlite/)"
   ]
  },
  {
   "cell_type": "code",
   "execution_count": null,
   "id": "7a12b753-3267-4c27-949b-d69e6b197359",
   "metadata": {},
   "outputs": [],
   "source": [
    "import sqlite3\n",
    "conn = sqlite3.connect('sql_db/emergency_department_database.db')"
   ]
  },
  {
   "cell_type": "code",
   "execution_count": null,
   "id": "df6343d1-124f-4a1f-a1ec-a82eb7841453",
   "metadata": {},
   "outputs": [],
   "source": [
    "table_names = ['diagnosis', 'edstays', 'medrecon', 'pyxis', 'triage', 'vitalsign']\n",
    "\n",
    "tables_data_types = {}\n",
    "\n",
    "for table_name in table_names:\n",
    "    tables_data_types[table_name] = conn.execute(f'PRAGMA table_info({table_name});').fetchall()\n",
    "\n",
    "conn.close()"
   ]
  },
  {
   "cell_type": "code",
   "execution_count": 15,
   "id": "3a99bae2-faaf-4702-8627-3f9ad8111ef0",
   "metadata": {},
   "outputs": [
    {
     "name": "stdout",
     "output_type": "stream",
     "text": [
      "DIAGNOSIS datatable:\n",
      "\n",
      "Column: subject_id, Type: INTEGER\n",
      "Column: stay_id, Type: INTEGER\n",
      "Column: seq_num, Type: INTEGER\n",
      "Column: icd_code, Type: TEXT\n",
      "Column: icd_version, Type: INTEGER\n",
      "Column: icd_title, Type: TEXT\n"
     ]
    }
   ],
   "source": [
    "diagnosis = tables_data_types['diagnosis']\n",
    "print('DIAGNOSIS datatable:\\n')\n",
    "for column_info in diagnosis:\n",
    "        print(f\"Column: {column_info[1]}, Type: {column_info[2]}\")"
   ]
  },
  {
   "cell_type": "code",
   "execution_count": 16,
   "id": "e638f786-8cab-4439-ae6f-e0c63bb6343d",
   "metadata": {},
   "outputs": [],
   "source": [
    "diagnosis = {\n",
    "    \"diagnosis_mapping\": \"\"\"\n",
    "    Data Dictionary for the 'diagnosis' table in the MIMIC-IV-ED dataset\n",
    "    \n",
    "    Table Description:\n",
    "    This table provides coded diagnoses associated with each ED visit, based on the International Classification of Diseases (ICD) ontology.\n",
    "    \n",
    "    Columns:\n",
    "    - subject_id: (INTEGER) A unique identifier assigned to each individual patient.\n",
    "    - stay_id: (INTEGER) A unique identifier for the ED visit.\n",
    "    - seq_num: (INTEGER) A pseudo-order representing the relevance of the diagnosis, with 1 being the most relevant.\n",
    "    - icd_code: (TEXT) The coded representation of the diagnosis using the ICD ontology.\n",
    "    - icd_version: (INTEGER) The version of the ICD ontology used (9 or 10).\n",
    "    - icd_title: (TEXT) The textual description of the ICD code.\n",
    "    \"\"\"\n",
    "    }"
   ]
  },
  {
   "cell_type": "code",
   "execution_count": 4,
   "id": "70ea47de-ad71-4d33-a1b5-097c5a26d3e5",
   "metadata": {},
   "outputs": [
    {
     "name": "stdout",
     "output_type": "stream",
     "text": [
      "EDSTAYS datatable:\n",
      "\n",
      "Column: subject_id, Type: INTEGER\n",
      "Column: hadm_id, Type: REAL\n",
      "Column: stay_id, Type: INTEGER\n",
      "Column: intime, Type: TEXT\n",
      "Column: outtime, Type: TEXT\n",
      "Column: gender, Type: TEXT\n",
      "Column: race, Type: TEXT\n",
      "Column: arrival_transport, Type: TEXT\n",
      "Column: disposition, Type: TEXT\n"
     ]
    }
   ],
   "source": [
    "edstays = tables_data_types['edstays']\n",
    "print('EDSTAYS datatable:\\n')\n",
    "for column_info in edstays:\n",
    "        print(f\"Column: {column_info[1]}, Type: {column_info[2]}\")"
   ]
  },
  {
   "cell_type": "code",
   "execution_count": 5,
   "id": "cbe61cf7-73b1-4124-937f-75b69d43434d",
   "metadata": {},
   "outputs": [],
   "source": [
    "edstays = {\n",
    "    \"edstays_mapping\":\"\"\"\n",
    "    Data Dictionary for the 'edstays' table in the MIMIC-IV-ED dataset\n",
    "    \n",
    "    Table Description:\n",
    "    This table tracks patient stays in the emergency department (ED). Each row represents a unique ED visit.\n",
    "    \n",
    "    Columns:\n",
    "    - subject_id: (INTEGER) A unique identifier assigned to each individual patient.\n",
    "    - hadm_id: (REAL) An identifier representing the hospital admission, if the patient was admitted after the ED visit.\n",
    "    - stay_id: (INTEGER) A unique identifier for the ED visit.\n",
    "    - intime: (TEXT) The date and time when the patient was admitted to the ED.\n",
    "    - outtime: (TEXT) The date and time when the patient was discharged from the ED.\n",
    "    - gender: (TEXT) The patient's gender.\n",
    "    - race: (TEXT) The patient's race.\n",
    "    - arrival_transport: (TEXT) The mode of transportation used by the patient to arrive at the ED (e.g., ambulance, walk-in).\n",
    "    - disposition: (TEXT) The discharge location or status of the patient after the ED visit (e.g., admitted, discharged home).\n",
    "    \"\"\"\n",
    "}"
   ]
  },
  {
   "cell_type": "code",
   "execution_count": 6,
   "id": "44ce94da-6594-406d-944f-fb32668c41fa",
   "metadata": {},
   "outputs": [
    {
     "name": "stdout",
     "output_type": "stream",
     "text": [
      "MEDRECON datatable:\n",
      "\n",
      "Column: subject_id, Type: INTEGER\n",
      "Column: stay_id, Type: INTEGER\n",
      "Column: charttime, Type: TEXT\n",
      "Column: name, Type: TEXT\n",
      "Column: gsn, Type: INTEGER\n",
      "Column: ndc, Type: INTEGER\n",
      "Column: etc_rn, Type: INTEGER\n",
      "Column: etccode, Type: REAL\n",
      "Column: etcdescription, Type: TEXT\n"
     ]
    }
   ],
   "source": [
    "edstays = tables_data_types['medrecon']\n",
    "print('MEDRECON datatable:\\n')\n",
    "for column_info in edstays:\n",
    "        print(f\"Column: {column_info[1]}, Type: {column_info[2]}\")"
   ]
  },
  {
   "cell_type": "code",
   "execution_count": 7,
   "id": "ee970c3c-87fa-413a-85be-e8383622aad2",
   "metadata": {},
   "outputs": [],
   "source": [
    "medrecon = {\n",
    "    \"medrecon_mapping\":\"\"\"\n",
    "    Data Dictionary for the 'medrecon' table in the MIMIC-IV-ED dataset\n",
    "    \n",
    "    Table Description:\n",
    "    This table provides information about the medications the patient was taking prior to their ED visit (medication reconciliation).\n",
    "    \n",
    "    Columns:\n",
    "    - subject_id: (INTEGER) A unique identifier assigned to each individual patient.\n",
    "    - stay_id: (INTEGER) A unique identifier for the ED visit.\n",
    "    - charttime: (TEXT) The date and time when the medication reconciliation was documented.\n",
    "    - name: (TEXT) The textual description of the medication.\n",
    "    - gsn: (INTEGER) The Generic Sequence Number (GSN) for the medication, if available.\n",
    "    - ndc: (INTEGER) The National Drug Code (NDC) for the medication, if available.\n",
    "    - etc_rn: (INTEGER) A sequential number for grouping medications into classes based on an ontology.\n",
    "    - etccode: (TEXT) The coded representation of the medication class based on an ontology.\n",
    "    - etcdescription: (TEXT) The textual description of the medication class based on an ontology.\n",
    "    \"\"\"\n",
    "}"
   ]
  },
  {
   "cell_type": "code",
   "execution_count": 8,
   "id": "d62457f1-c2c2-4d48-aca2-dce3fca1e1c1",
   "metadata": {},
   "outputs": [
    {
     "name": "stdout",
     "output_type": "stream",
     "text": [
      "PYXIS datatable:\n",
      "\n",
      "Column: subject_id, Type: INTEGER\n",
      "Column: stay_id, Type: INTEGER\n",
      "Column: charttime, Type: TEXT\n",
      "Column: med_rn, Type: INTEGER\n",
      "Column: name, Type: TEXT\n",
      "Column: gsn_rn, Type: INTEGER\n",
      "Column: gsn, Type: REAL\n"
     ]
    }
   ],
   "source": [
    "pyxis = tables_data_types['pyxis']\n",
    "print('PYXIS datatable:\\n')\n",
    "for column_info in pyxis:\n",
    "        print(f\"Column: {column_info[1]}, Type: {column_info[2]}\")"
   ]
  },
  {
   "cell_type": "code",
   "execution_count": 9,
   "id": "18995a3e-a25a-4fea-83d9-8547dd86080d",
   "metadata": {},
   "outputs": [],
   "source": [
    "pyxis = {\n",
    "    \"pyxis_mapping\": \"\"\"\n",
    "    Data Dictionary for the 'pyxis' table in the MIMIC-IV-ED dataset\n",
    "    \n",
    "    Table Description:\n",
    "    This table contains information about medications dispensed from the automated Pyxis MedStation system during the ED visit.\n",
    "    \n",
    "    Columns:\n",
    "    - subject_id: (INTEGER) A unique identifier assigned to each individual patient.\n",
    "    - stay_id: (INTEGER) A unique identifier for the ED visit.\n",
    "    - charttime: (TEXT) The date and time when the medication was dispensed.\n",
    "    - med_rn: (INTEGER) A sequential number for delineating multiple medications dispensed at the same time.\n",
    "    - name: (TEXT) The textual description of the dispensed medication.\n",
    "    - gsn_rn: (INTEGER) A sequential number for delineating multiple GSN values associated with the same medication.\n",
    "    - gsn: (REAL) The Generic Sequence Number (GSN) for the medication, if available.\n",
    "    \"\"\"\n",
    "}"
   ]
  },
  {
   "cell_type": "code",
   "execution_count": 10,
   "id": "a7f35073-44a5-40d7-a4eb-0a5c49a7cabe",
   "metadata": {},
   "outputs": [
    {
     "name": "stdout",
     "output_type": "stream",
     "text": [
      "TRIAGE datatable:\n",
      "\n",
      "Column: subject_id, Type: INTEGER\n",
      "Column: stay_id, Type: INTEGER\n",
      "Column: temperature, Type: REAL\n",
      "Column: heartrate, Type: REAL\n",
      "Column: resprate, Type: REAL\n",
      "Column: o2sat, Type: REAL\n",
      "Column: sbp, Type: REAL\n",
      "Column: dbp, Type: REAL\n",
      "Column: pain, Type: TEXT\n",
      "Column: acuity, Type: REAL\n",
      "Column: chiefcomplaint, Type: TEXT\n"
     ]
    }
   ],
   "source": [
    "triage = tables_data_types['triage']\n",
    "print('TRIAGE datatable:\\n')\n",
    "for column_info in triage:\n",
    "        print(f\"Column: {column_info[1]}, Type: {column_info[2]}\")"
   ]
  },
  {
   "cell_type": "code",
   "execution_count": 11,
   "id": "0d4d37a3-2024-4a1f-a212-8c58ca2234ff",
   "metadata": {},
   "outputs": [],
   "source": [
    "triage = {\n",
    "    \"triage_mapping\": \"\"\"\n",
    "    Data Dictionary for the 'triage' table in the MIMIC-IV-ED dataset\n",
    "    \n",
    "    Table Description:\n",
    "    This table contains information collected during the triage process, including vital signs, pain level, and the chief complaint reported by the patient.\n",
    "    \n",
    "    Columns:\n",
    "    - subject_id: (INTEGER) A unique identifier assigned to each individual patient.\n",
    "    - stay_id: (INTEGER) A unique identifier for the ED visit.\n",
    "    - temperature: (REAL) The patient's body temperature recorded at triage.\n",
    "    - heartrate: (REAL) The patient's heart rate recorded at triage.\n",
    "    - resprate: (REAL) The patient's respiratory rate recorded at triage.\n",
    "    - o2sat: (REAL) The patient's oxygen saturation level recorded at triage.\n",
    "    - sbp: (REAL) The patient's systolic blood pressure recorded at triage.\n",
    "    - dbp: (REAL) The patient's diastolic blood pressure recorded at triage.\n",
    "    - pain: (TEXT) The patient's reported pain level at triage.\n",
    "    - acuity: (INTEGER) The level of severity assigned by the care provider based on the triage assessment.\n",
    "    - chiefcomplaint: (TEXT) The patient's reported reason for presenting to the ED, often a comma-separated list of entries.\n",
    "    \"\"\"\n",
    "}"
   ]
  },
  {
   "cell_type": "code",
   "execution_count": 12,
   "id": "13239f1e-c124-4ac5-a417-27fa7d036075",
   "metadata": {},
   "outputs": [
    {
     "name": "stdout",
     "output_type": "stream",
     "text": [
      "VITALSIGN datatable:\n",
      "\n",
      "Column: subject_id, Type: INTEGER\n",
      "Column: stay_id, Type: INTEGER\n",
      "Column: charttime, Type: TEXT\n",
      "Column: temperature, Type: REAL\n",
      "Column: heartrate, Type: REAL\n",
      "Column: resprate, Type: REAL\n",
      "Column: o2sat, Type: REAL\n",
      "Column: sbp, Type: REAL\n",
      "Column: dbp, Type: REAL\n",
      "Column: rhythm, Type: TEXT\n",
      "Column: pain, Type: TEXT\n"
     ]
    }
   ],
   "source": [
    "vitalsign = tables_data_types['vitalsign']\n",
    "print('VITALSIGN datatable:\\n')\n",
    "for column_info in vitalsign:\n",
    "        print(f\"Column: {column_info[1]}, Type: {column_info[2]}\")"
   ]
  },
  {
   "cell_type": "code",
   "execution_count": 13,
   "id": "3d9fa1e8-3100-4fa3-a209-0b74a798f878",
   "metadata": {},
   "outputs": [],
   "source": [
    "vitalsign = {\n",
    "    \"vitalsign_mapping\": \"\"\"\n",
    "    Data Dictionary for the 'vitalsign' table in the MIMIC-IV-ED dataset\n",
    "    \n",
    "    Table Description:\n",
    "    This table contains aperiodic vital sign measurements documented for patients during their ED stay.\n",
    "    \n",
    "    Columns:\n",
    "    - subject_id: (INTEGER) A unique identifier assigned to each individual patient.\n",
    "    - stay_id: (INTEGER) A unique identifier for the ED visit.\n",
    "    - charttime: (TEXT) The date and time when the vital signs were recorded.\n",
    "    - temperature: (REAL) The patient's body temperature.\n",
    "    - heartrate: (REAL) The patient's heart rate.\n",
    "    - resprate: (REAL) The patient's respiratory rate.\n",
    "    - o2sat: (REAL) The patient's oxygen saturation level.\n",
    "    - sbp: (REAL) The patient's systolic blood pressure.\n",
    "    - dbp: (REAL) The patient's diastolic blood pressure.\n",
    "    - rhythm: (TEXT) The patient's heart rhythm.\n",
    "    - pain: (TEXT) The patient's reported pain level.\n",
    "    \"\"\"\n",
    "}"
   ]
  },
  {
   "cell_type": "code",
   "execution_count": 14,
   "id": "d5d23448-b02e-48d6-a692-22aa6eec481f",
   "metadata": {},
   "outputs": [],
   "source": [
    "conn.close()"
   ]
  },
  {
   "cell_type": "code",
   "execution_count": 28,
   "id": "2f020a0d-cb63-48a0-92b2-5781c280d00f",
   "metadata": {},
   "outputs": [],
   "source": [
    "data_dictionary = {\n",
    "    \"diagnosis_mapping\": \"\"\"\n",
    "    Data Dictionary for the 'diagnosis' table in the MIMIC-IV-ED dataset\n",
    "    \n",
    "    Table Description:\n",
    "    This table provides coded diagnoses associated with each ED visit, based on the International Classification of Diseases (ICD) ontology.\n",
    "    \n",
    "    Columns:\n",
    "    - subject_id: (INTEGER) A unique identifier assigned to each individual patient.\n",
    "    - stay_id: (INTEGER) A unique identifier for the ED visit.\n",
    "    - seq_num: (INTEGER) A pseudo-order representing the relevance of the diagnosis, with 1 being the most relevant.\n",
    "    - icd_code: (TEXT) The coded representation of the diagnosis using the ICD ontology.\n",
    "    - icd_version: (INTEGER) The version of the ICD ontology used (9 or 10).\n",
    "    - icd_title: (TEXT) The textual description of the ICD code.\n",
    "    \"\"\",\n",
    "    \"edstays_mapping\":\"\"\"\n",
    "    Data Dictionary for the 'edstays' table in the MIMIC-IV-ED dataset\n",
    "    \n",
    "    Table Description:\n",
    "    This table tracks patient stays in the emergency department (ED). Each row represents a unique ED visit.\n",
    "    \n",
    "    Columns:\n",
    "    - subject_id: (INTEGER) A unique identifier assigned to each individual patient.\n",
    "    - hadm_id: (REAL) An identifier representing the hospital admission, if the patient was admitted after the ED visit.\n",
    "    - stay_id: (INTEGER) A unique identifier for the ED visit.\n",
    "    - intime: (TEXT) The date and time when the patient was admitted to the ED.\n",
    "    - outtime: (TEXT) The date and time when the patient was discharged from the ED.\n",
    "    - gender: (TEXT) The patient's gender.\n",
    "    - race: (TEXT) The patient's race.\n",
    "    - arrival_transport: (TEXT) The mode of transportation used by the patient to arrive at the ED (e.g., ambulance, walk-in).\n",
    "    - disposition: (TEXT) The discharge location or status of the patient after the ED visit (e.g., admitted, discharged home).\n",
    "    \"\"\",\n",
    "    \"medrecon_mapping\":\"\"\"\n",
    "    Data Dictionary for the 'medrecon' table in the MIMIC-IV-ED dataset\n",
    "    \n",
    "    Table Description:\n",
    "    This table provides information about the medications the patient was taking prior to their ED visit (medication reconciliation).\n",
    "    \n",
    "    Columns:\n",
    "    - subject_id: (INTEGER) A unique identifier assigned to each individual patient.\n",
    "    - stay_id: (INTEGER) A unique identifier for the ED visit.\n",
    "    - charttime: (TEXT) The date and time when the medication reconciliation was documented.\n",
    "    - name: (TEXT) The textual description of the medication.\n",
    "    - gsn: (INTEGER) The Generic Sequence Number (GSN) for the medication, if available.\n",
    "    - ndc: (INTEGER) The National Drug Code (NDC) for the medication, if available.\n",
    "    - etc_rn: (INTEGER) A sequential number for grouping medications into classes based on an ontology.\n",
    "    - etccode: (TEXT) The coded representation of the medication class based on an ontology.\n",
    "    - etcdescription: (TEXT) The textual description of the medication class based on an ontology.\n",
    "    \"\"\",\n",
    "    \"pyxis_mapping\": \"\"\"\n",
    "    Data Dictionary for the 'pyxis' table in the MIMIC-IV-ED dataset\n",
    "    \n",
    "    Table Description:\n",
    "    This table contains information about medications dispensed from the automated Pyxis MedStation system during the ED visit.\n",
    "    \n",
    "    Columns:\n",
    "    - subject_id: (INTEGER) A unique identifier assigned to each individual patient.\n",
    "    - stay_id: (INTEGER) A unique identifier for the ED visit.\n",
    "    - charttime: (TEXT) The date and time when the medication was dispensed.\n",
    "    - med_rn: (INTEGER) A sequential number for delineating multiple medications dispensed at the same time.\n",
    "    - name: (TEXT) The textual description of the dispensed medication.\n",
    "    - gsn_rn: (INTEGER) A sequential number for delineating multiple GSN values associated with the same medication.\n",
    "    - gsn: (REAL) The Generic Sequence Number (GSN) for the medication, if available.\n",
    "    \"\"\",\n",
    "    \"triage_mapping\": \"\"\"\n",
    "    Data Dictionary for the 'triage' table in the MIMIC-IV-ED dataset\n",
    "    \n",
    "    Table Description:\n",
    "    This table contains information collected during the triage process, including vital signs, pain level, and the chief complaint reported by the patient.\n",
    "    \n",
    "    Columns:\n",
    "    - subject_id: (INTEGER) A unique identifier assigned to each individual patient.\n",
    "    - stay_id: (INTEGER) A unique identifier for the ED visit.\n",
    "    - temperature: (REAL) The patient's body temperature recorded at triage.\n",
    "    - heartrate: (REAL) The patient's heart rate recorded at triage.\n",
    "    - resprate: (REAL) The patient's respiratory rate recorded at triage.\n",
    "    - o2sat: (REAL) The patient's oxygen saturation level recorded at triage.\n",
    "    - sbp: (REAL) The patient's systolic blood pressure recorded at triage.\n",
    "    - dbp: (REAL) The patient's diastolic blood pressure recorded at triage.\n",
    "    - pain: (TEXT) The patient's reported pain level at triage.\n",
    "    - acuity: (INTEGER) The level of severity assigned by the care provider based on the triage assessment.\n",
    "    - chiefcomplaint: (TEXT) The patient's reported reason for presenting to the ED, often a comma-separated list of entries.\n",
    "    \"\"\",\n",
    "    \"vitalsign_mapping\": \"\"\"\n",
    "    Data Dictionary for the 'vitalsign' table in the MIMIC-IV-ED dataset\n",
    "    \n",
    "    Table Description:\n",
    "    This table contains aperiodic vital sign measurements documented for patients during their ED stay.\n",
    "    \n",
    "    Columns:\n",
    "    - subject_id: (INTEGER) A unique identifier assigned to each individual patient.\n",
    "    - stay_id: (INTEGER) A unique identifier for the ED visit.\n",
    "    - charttime: (TEXT) The date and time when the vital signs were recorded.\n",
    "    - temperature: (REAL) The patient's body temperature.\n",
    "    - heartrate: (REAL) The patient's heart rate.\n",
    "    - resprate: (REAL) The patient's respiratory rate.\n",
    "    - o2sat: (REAL) The patient's oxygen saturation level.\n",
    "    - sbp: (REAL) The patient's systolic blood pressure.\n",
    "    - dbp: (REAL) The patient's diastolic blood pressure.\n",
    "    - rhythm: (TEXT) The patient's heart rhythm.\n",
    "    - pain: (TEXT) The patient's reported pain level.\n",
    "    \"\"\"\n",
    "}"
   ]
  },
  {
   "cell_type": "code",
   "execution_count": null,
   "id": "bdac4d5d-5d59-4089-ad41-eac73fb967c9",
   "metadata": {},
   "outputs": [],
   "source": []
  }
 ],
 "metadata": {
  "kernelspec": {
   "display_name": "Python 3 (ipykernel)",
   "language": "python",
   "name": "python3"
  },
  "language_info": {
   "codemirror_mode": {
    "name": "ipython",
    "version": 3
   },
   "file_extension": ".py",
   "mimetype": "text/x-python",
   "name": "python",
   "nbconvert_exporter": "python",
   "pygments_lexer": "ipython3",
   "version": "3.12.3"
  }
 },
 "nbformat": 4,
 "nbformat_minor": 5
}
